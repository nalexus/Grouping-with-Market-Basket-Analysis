{
 "cells": [
  {
   "cell_type": "code",
   "execution_count": 2,
   "metadata": {
    "collapsed": true
   },
   "outputs": [],
   "source": [
    "import numpy as np\n",
    "import pandas as pd\n",
    "import matplotlib.pyplot as plt\n",
    "%matplotlib inline\n",
    "from sklearn.metrics.pairwise import cosine_similarity\n",
    "from scipy import sparse\n",
    "from mlxtend.frequent_patterns import apriori\n",
    "from mlxtend.frequent_patterns import association_rules\n",
    "from functools import reduce\n",
    "import warnings\n",
    "warnings.filterwarnings(\"ignore\")"
   ]
  },
  {
   "cell_type": "code",
   "execution_count": 3,
   "metadata": {
    "collapsed": true
   },
   "outputs": [],
   "source": [
    "df = pd.read_csv('df.csv')"
   ]
  },
  {
   "cell_type": "code",
   "execution_count": 4,
   "metadata": {},
   "outputs": [
    {
     "data": {
      "text/html": [
       "<div>\n",
       "<style scoped>\n",
       "    .dataframe tbody tr th:only-of-type {\n",
       "        vertical-align: middle;\n",
       "    }\n",
       "\n",
       "    .dataframe tbody tr th {\n",
       "        vertical-align: top;\n",
       "    }\n",
       "\n",
       "    .dataframe thead th {\n",
       "        text-align: right;\n",
       "    }\n",
       "</style>\n",
       "<table border=\"1\" class=\"dataframe\">\n",
       "  <thead>\n",
       "    <tr style=\"text-align: right;\">\n",
       "      <th></th>\n",
       "      <th>Unnamed: 0</th>\n",
       "      <th>action_1</th>\n",
       "      <th>action_2</th>\n",
       "      <th>action_3</th>\n",
       "      <th>action_4</th>\n",
       "      <th>action_5</th>\n",
       "      <th>action_6</th>\n",
       "      <th>action_7</th>\n",
       "      <th>action_8</th>\n",
       "    </tr>\n",
       "  </thead>\n",
       "  <tbody>\n",
       "    <tr>\n",
       "      <th>0</th>\n",
       "      <td>0</td>\n",
       "      <td>1</td>\n",
       "      <td>1.0</td>\n",
       "      <td>NaN</td>\n",
       "      <td>NaN</td>\n",
       "      <td>NaN</td>\n",
       "      <td>NaN</td>\n",
       "      <td>NaN</td>\n",
       "      <td>NaN</td>\n",
       "    </tr>\n",
       "    <tr>\n",
       "      <th>1</th>\n",
       "      <td>1</td>\n",
       "      <td>1</td>\n",
       "      <td>1.0</td>\n",
       "      <td>NaN</td>\n",
       "      <td>NaN</td>\n",
       "      <td>NaN</td>\n",
       "      <td>NaN</td>\n",
       "      <td>NaN</td>\n",
       "      <td>NaN</td>\n",
       "    </tr>\n",
       "    <tr>\n",
       "      <th>2</th>\n",
       "      <td>2</td>\n",
       "      <td>1</td>\n",
       "      <td>NaN</td>\n",
       "      <td>NaN</td>\n",
       "      <td>NaN</td>\n",
       "      <td>NaN</td>\n",
       "      <td>NaN</td>\n",
       "      <td>NaN</td>\n",
       "      <td>NaN</td>\n",
       "    </tr>\n",
       "    <tr>\n",
       "      <th>3</th>\n",
       "      <td>3</td>\n",
       "      <td>1</td>\n",
       "      <td>1.0</td>\n",
       "      <td>NaN</td>\n",
       "      <td>NaN</td>\n",
       "      <td>NaN</td>\n",
       "      <td>NaN</td>\n",
       "      <td>NaN</td>\n",
       "      <td>NaN</td>\n",
       "    </tr>\n",
       "    <tr>\n",
       "      <th>4</th>\n",
       "      <td>4</td>\n",
       "      <td>1</td>\n",
       "      <td>NaN</td>\n",
       "      <td>NaN</td>\n",
       "      <td>NaN</td>\n",
       "      <td>NaN</td>\n",
       "      <td>NaN</td>\n",
       "      <td>NaN</td>\n",
       "      <td>NaN</td>\n",
       "    </tr>\n",
       "  </tbody>\n",
       "</table>\n",
       "</div>"
      ],
      "text/plain": [
       "   Unnamed: 0  action_1  action_2  action_3  action_4  action_5  action_6  \\\n",
       "0           0         1       1.0       NaN       NaN       NaN       NaN   \n",
       "1           1         1       1.0       NaN       NaN       NaN       NaN   \n",
       "2           2         1       NaN       NaN       NaN       NaN       NaN   \n",
       "3           3         1       1.0       NaN       NaN       NaN       NaN   \n",
       "4           4         1       NaN       NaN       NaN       NaN       NaN   \n",
       "\n",
       "   action_7  action_8  \n",
       "0       NaN       NaN  \n",
       "1       NaN       NaN  \n",
       "2       NaN       NaN  \n",
       "3       NaN       NaN  \n",
       "4       NaN       NaN  "
      ]
     },
     "execution_count": 4,
     "metadata": {},
     "output_type": "execute_result"
    }
   ],
   "source": [
    "df.head()"
   ]
  },
  {
   "cell_type": "markdown",
   "metadata": {},
   "source": [
    "### Basic preprocessing: filling NaN values with 0, deleting spare column and changing float type to integer"
   ]
  },
  {
   "cell_type": "code",
   "execution_count": 5,
   "metadata": {
    "collapsed": true
   },
   "outputs": [],
   "source": [
    "df = df.fillna(0)\n",
    "df = df.drop('Unnamed: 0', axis=1)\n",
    "for i in df[df.select_dtypes('float64').columns]:\n",
    "            df[i] = df[i].astype('int64')"
   ]
  },
  {
   "cell_type": "markdown",
   "metadata": {},
   "source": [
    "### Visualization of different Actions occurences in the dataset"
   ]
  },
  {
   "cell_type": "code",
   "execution_count": 6,
   "metadata": {},
   "outputs": [
    {
     "data": {
      "text/plain": [
       "<matplotlib.axes._subplots.AxesSubplot at 0x7fde427452b0>"
      ]
     },
     "execution_count": 6,
     "metadata": {},
     "output_type": "execute_result"
    },
    {
     "data": {
      "image/png": "[encoded data removed]",
      "text/plain": [
       "<matplotlib.figure.Figure at 0x7fde4271a9b0>"
      ]
     },
     "metadata": {},
     "output_type": "display_data"
    }
   ],
   "source": [
    "# calculate occurrence(support) for every action in all transactions\n",
    "product_support_dict = {}\n",
    "for column in df.columns:\n",
    "    product_support_dict[column] = sum(df[column]>0)\n",
    "\n",
    "# visualise support\n",
    "pd.Series(product_support_dict).plot(kind=\"bar\")"
   ]
  },
  {
   "cell_type": "markdown",
   "metadata": {},
   "source": [
    "### Clustering (grouping) with Market Basket Analysis filtering\n"
   ]
  },
  {
   "cell_type": "markdown",
   "metadata": {},
   "source": [
    "#### Explanation of the approach taken"
   ]
  },
  {
   "cell_type": "markdown",
   "metadata": {},
   "source": [
    "Let's imagine that every 'Action' is an action of booking/buying a certain item.\n",
    "\n",
    "I assume (from the example given and from the type of data given) that the 'similarity measure' used consisted in counting number of times certain unique action (item) combinations took place. \n",
    "\n",
    "However there is no reason to keep those unique groups/clusters of items which co-occurences seems random. That's why I will delete those with less than 10 co-occurences (though that's a bit arbitraty) and then I will apply Market Basket Analysis after grouping in order to leave only those groups/ clusters, which seems to surpass some confidence and lift levels, which we will state below.\n",
    "\n",
    "After filtering I will simply select top-5 groups with the most frequent co-occurence.\n",
    "\n",
    "So, I proceed with following steps:\n",
    "1. Grouping unique co-occurences;\n",
    "2. Market Basket Analysis; \n",
    "3. Filtering out random clusters and leaving top-5 with the most frequent co-occurence.\n",
    "\n",
    "At the end of the day, raw application of other clustering techniques, such as hierarchical clustering, k-means etc. are not so interpretable here as simple Market Basket analysis."
   ]
  },
  {
   "cell_type": "markdown",
   "metadata": {},
   "source": [
    "#### Grouping"
   ]
  },
  {
   "cell_type": "code",
   "execution_count": 7,
   "metadata": {
    "collapsed": true
   },
   "outputs": [],
   "source": [
    "#Grouping data by unique action co-occurences\n",
    "series = df.groupby(['action_1','action_2','action_3','action_4','action_5','action_6','action_7','action_8']).size()"
   ]
  },
  {
   "cell_type": "code",
   "execution_count": 8,
   "metadata": {
    "collapsed": true
   },
   "outputs": [],
   "source": [
    "new_df = series.to_frame(name = 'size').reset_index()"
   ]
  },
  {
   "cell_type": "code",
   "execution_count": 10,
   "metadata": {},
   "outputs": [
    {
     "data": {
      "text/html": [
       "<div>\n",
       "<style scoped>\n",
       "    .dataframe tbody tr th:only-of-type {\n",
       "        vertical-align: middle;\n",
       "    }\n",
       "\n",
       "    .dataframe tbody tr th {\n",
       "        vertical-align: top;\n",
       "    }\n",
       "\n",
       "    .dataframe thead th {\n",
       "        text-align: right;\n",
       "    }\n",
       "</style>\n",
       "<table border=\"1\" class=\"dataframe\">\n",
       "  <thead>\n",
       "    <tr style=\"text-align: right;\">\n",
       "      <th></th>\n",
       "      <th>action_1</th>\n",
       "      <th>action_2</th>\n",
       "      <th>action_3</th>\n",
       "      <th>action_4</th>\n",
       "      <th>action_5</th>\n",
       "      <th>action_6</th>\n",
       "      <th>action_7</th>\n",
       "      <th>action_8</th>\n",
       "      <th>size</th>\n",
       "    </tr>\n",
       "  </thead>\n",
       "  <tbody>\n",
       "    <tr>\n",
       "      <th>0</th>\n",
       "      <td>1</td>\n",
       "      <td>0</td>\n",
       "      <td>0</td>\n",
       "      <td>0</td>\n",
       "      <td>0</td>\n",
       "      <td>0</td>\n",
       "      <td>0</td>\n",
       "      <td>0</td>\n",
       "      <td>9267</td>\n",
       "    </tr>\n",
       "    <tr>\n",
       "      <th>1</th>\n",
       "      <td>1</td>\n",
       "      <td>0</td>\n",
       "      <td>0</td>\n",
       "      <td>0</td>\n",
       "      <td>1</td>\n",
       "      <td>1</td>\n",
       "      <td>0</td>\n",
       "      <td>0</td>\n",
       "      <td>1</td>\n",
       "    </tr>\n",
       "    <tr>\n",
       "      <th>2</th>\n",
       "      <td>1</td>\n",
       "      <td>0</td>\n",
       "      <td>0</td>\n",
       "      <td>1</td>\n",
       "      <td>0</td>\n",
       "      <td>0</td>\n",
       "      <td>0</td>\n",
       "      <td>0</td>\n",
       "      <td>72</td>\n",
       "    </tr>\n",
       "    <tr>\n",
       "      <th>3</th>\n",
       "      <td>1</td>\n",
       "      <td>0</td>\n",
       "      <td>0</td>\n",
       "      <td>1</td>\n",
       "      <td>0</td>\n",
       "      <td>0</td>\n",
       "      <td>1</td>\n",
       "      <td>0</td>\n",
       "      <td>30</td>\n",
       "    </tr>\n",
       "    <tr>\n",
       "      <th>4</th>\n",
       "      <td>1</td>\n",
       "      <td>0</td>\n",
       "      <td>1</td>\n",
       "      <td>0</td>\n",
       "      <td>0</td>\n",
       "      <td>0</td>\n",
       "      <td>0</td>\n",
       "      <td>0</td>\n",
       "      <td>499</td>\n",
       "    </tr>\n",
       "  </tbody>\n",
       "</table>\n",
       "</div>"
      ],
      "text/plain": [
       "   action_1  action_2  action_3  action_4  action_5  action_6  action_7  \\\n",
       "0         1         0         0         0         0         0         0   \n",
       "1         1         0         0         0         1         1         0   \n",
       "2         1         0         0         1         0         0         0   \n",
       "3         1         0         0         1         0         0         1   \n",
       "4         1         0         1         0         0         0         0   \n",
       "\n",
       "   action_8  size  \n",
       "0         0  9267  \n",
       "1         0     1  \n",
       "2         0    72  \n",
       "3         0    30  \n",
       "4         0   499  "
      ]
     },
     "execution_count": 10,
     "metadata": {},
     "output_type": "execute_result"
    }
   ],
   "source": [
    "new_df.head()"
   ]
  },
  {
   "cell_type": "code",
   "execution_count": 11,
   "metadata": {},
   "outputs": [
    {
     "data": {
      "text/plain": [
       "41"
      ]
     },
     "execution_count": 11,
     "metadata": {},
     "output_type": "execute_result"
    }
   ],
   "source": [
    "#let's check starting number of gruops(clusters)\n",
    "len(new_df)"
   ]
  },
  {
   "cell_type": "code",
   "execution_count": 12,
   "metadata": {
    "collapsed": true
   },
   "outputs": [],
   "source": [
    "copy = new_df.copy()"
   ]
  },
  {
   "cell_type": "code",
   "execution_count": 13,
   "metadata": {
    "collapsed": true
   },
   "outputs": [],
   "source": [
    "#let's iterate and fill in every '1' in every cluster with respective number of cluster size\n",
    "cols = copy.columns\n",
    "for index, row in copy.iterrows():\n",
    "    count=0\n",
    "    for value in row:\n",
    "        if value==1:\n",
    "            copy.set_value(index,cols[count],row['size'])\n",
    "            count+=1\n",
    "        else:\n",
    "            count+=1\n",
    "            "
   ]
  },
  {
   "cell_type": "code",
   "execution_count": 209,
   "metadata": {},
   "outputs": [
    {
     "data": {
      "text/html": [
       "<div>\n",
       "<style scoped>\n",
       "    .dataframe tbody tr th:only-of-type {\n",
       "        vertical-align: middle;\n",
       "    }\n",
       "\n",
       "    .dataframe tbody tr th {\n",
       "        vertical-align: top;\n",
       "    }\n",
       "\n",
       "    .dataframe thead th {\n",
       "        text-align: right;\n",
       "    }\n",
       "</style>\n",
       "<table border=\"1\" class=\"dataframe\">\n",
       "  <thead>\n",
       "    <tr style=\"text-align: right;\">\n",
       "      <th></th>\n",
       "      <th>action_1</th>\n",
       "      <th>action_2</th>\n",
       "      <th>action_3</th>\n",
       "      <th>action_4</th>\n",
       "      <th>action_5</th>\n",
       "      <th>action_6</th>\n",
       "      <th>action_7</th>\n",
       "      <th>action_8</th>\n",
       "      <th>size</th>\n",
       "    </tr>\n",
       "  </thead>\n",
       "  <tbody>\n",
       "    <tr>\n",
       "      <th>0</th>\n",
       "      <td>9267</td>\n",
       "      <td>0</td>\n",
       "      <td>0</td>\n",
       "      <td>0</td>\n",
       "      <td>0</td>\n",
       "      <td>0</td>\n",
       "      <td>0</td>\n",
       "      <td>0</td>\n",
       "      <td>9267</td>\n",
       "    </tr>\n",
       "    <tr>\n",
       "      <th>1</th>\n",
       "      <td>1</td>\n",
       "      <td>0</td>\n",
       "      <td>0</td>\n",
       "      <td>0</td>\n",
       "      <td>1</td>\n",
       "      <td>1</td>\n",
       "      <td>0</td>\n",
       "      <td>0</td>\n",
       "      <td>1</td>\n",
       "    </tr>\n",
       "    <tr>\n",
       "      <th>2</th>\n",
       "      <td>72</td>\n",
       "      <td>0</td>\n",
       "      <td>0</td>\n",
       "      <td>72</td>\n",
       "      <td>0</td>\n",
       "      <td>0</td>\n",
       "      <td>0</td>\n",
       "      <td>0</td>\n",
       "      <td>72</td>\n",
       "    </tr>\n",
       "    <tr>\n",
       "      <th>3</th>\n",
       "      <td>30</td>\n",
       "      <td>0</td>\n",
       "      <td>0</td>\n",
       "      <td>30</td>\n",
       "      <td>0</td>\n",
       "      <td>0</td>\n",
       "      <td>30</td>\n",
       "      <td>0</td>\n",
       "      <td>30</td>\n",
       "    </tr>\n",
       "    <tr>\n",
       "      <th>4</th>\n",
       "      <td>499</td>\n",
       "      <td>0</td>\n",
       "      <td>499</td>\n",
       "      <td>0</td>\n",
       "      <td>0</td>\n",
       "      <td>0</td>\n",
       "      <td>0</td>\n",
       "      <td>0</td>\n",
       "      <td>499</td>\n",
       "    </tr>\n",
       "  </tbody>\n",
       "</table>\n",
       "</div>"
      ],
      "text/plain": [
       "   action_1  action_2  action_3  action_4  action_5  action_6  action_7  \\\n",
       "0      9267         0         0         0         0         0         0   \n",
       "1         1         0         0         0         1         1         0   \n",
       "2        72         0         0        72         0         0         0   \n",
       "3        30         0         0        30         0         0        30   \n",
       "4       499         0       499         0         0         0         0   \n",
       "\n",
       "   action_8  size  \n",
       "0         0  9267  \n",
       "1         0     1  \n",
       "2         0    72  \n",
       "3         0    30  \n",
       "4         0   499  "
      ]
     },
     "execution_count": 209,
     "metadata": {},
     "output_type": "execute_result"
    }
   ],
   "source": [
    "copy.head()"
   ]
  },
  {
   "cell_type": "code",
   "execution_count": 14,
   "metadata": {
    "collapsed": true
   },
   "outputs": [],
   "source": [
    "#I will delete some clusters immediately - obvious cases where size of co-occurence is less than '10' - so little co-occurrence can be totally random.\n",
    "copy = copy.drop(index=0).reset_index(drop=True)\n",
    "copy = copy[copy['size'] >= 10].reset_index(drop=True)"
   ]
  },
  {
   "cell_type": "code",
   "execution_count": 16,
   "metadata": {
    "collapsed": true
   },
   "outputs": [],
   "source": [
    "#drop size feature\n",
    "copy = copy.drop('size',axis=1).reset_index(drop=True)"
   ]
  },
  {
   "cell_type": "code",
   "execution_count": 17,
   "metadata": {
    "collapsed": true
   },
   "outputs": [],
   "source": [
    "#start index from 1 as in example\n",
    "copy.index += 1"
   ]
  },
  {
   "cell_type": "code",
   "execution_count": 18,
   "metadata": {
    "collapsed": true
   },
   "outputs": [],
   "source": [
    "#change zeroes with nan\n",
    "cols = copy.columns\n",
    "copy[cols] = copy[cols].replace({0:np.nan})"
   ]
  },
  {
   "cell_type": "code",
   "execution_count": 19,
   "metadata": {},
   "outputs": [
    {
     "data": {
      "text/html": [
       "<div>\n",
       "<style scoped>\n",
       "    .dataframe tbody tr th:only-of-type {\n",
       "        vertical-align: middle;\n",
       "    }\n",
       "\n",
       "    .dataframe tbody tr th {\n",
       "        vertical-align: top;\n",
       "    }\n",
       "\n",
       "    .dataframe thead th {\n",
       "        text-align: right;\n",
       "    }\n",
       "</style>\n",
       "<table border=\"1\" class=\"dataframe\">\n",
       "  <thead>\n",
       "    <tr style=\"text-align: right;\">\n",
       "      <th></th>\n",
       "      <th>action_1</th>\n",
       "      <th>action_2</th>\n",
       "      <th>action_3</th>\n",
       "      <th>action_4</th>\n",
       "      <th>action_5</th>\n",
       "      <th>action_6</th>\n",
       "      <th>action_7</th>\n",
       "      <th>action_8</th>\n",
       "    </tr>\n",
       "  </thead>\n",
       "  <tbody>\n",
       "    <tr>\n",
       "      <th>1</th>\n",
       "      <td>72.0</td>\n",
       "      <td>NaN</td>\n",
       "      <td>NaN</td>\n",
       "      <td>72.0</td>\n",
       "      <td>NaN</td>\n",
       "      <td>NaN</td>\n",
       "      <td>NaN</td>\n",
       "      <td>NaN</td>\n",
       "    </tr>\n",
       "    <tr>\n",
       "      <th>2</th>\n",
       "      <td>30.0</td>\n",
       "      <td>NaN</td>\n",
       "      <td>NaN</td>\n",
       "      <td>30.0</td>\n",
       "      <td>NaN</td>\n",
       "      <td>NaN</td>\n",
       "      <td>30.0</td>\n",
       "      <td>NaN</td>\n",
       "    </tr>\n",
       "    <tr>\n",
       "      <th>3</th>\n",
       "      <td>499.0</td>\n",
       "      <td>NaN</td>\n",
       "      <td>499.0</td>\n",
       "      <td>NaN</td>\n",
       "      <td>NaN</td>\n",
       "      <td>NaN</td>\n",
       "      <td>NaN</td>\n",
       "      <td>NaN</td>\n",
       "    </tr>\n",
       "    <tr>\n",
       "      <th>4</th>\n",
       "      <td>44.0</td>\n",
       "      <td>NaN</td>\n",
       "      <td>44.0</td>\n",
       "      <td>44.0</td>\n",
       "      <td>NaN</td>\n",
       "      <td>NaN</td>\n",
       "      <td>NaN</td>\n",
       "      <td>NaN</td>\n",
       "    </tr>\n",
       "    <tr>\n",
       "      <th>5</th>\n",
       "      <td>75.0</td>\n",
       "      <td>NaN</td>\n",
       "      <td>75.0</td>\n",
       "      <td>75.0</td>\n",
       "      <td>NaN</td>\n",
       "      <td>NaN</td>\n",
       "      <td>75.0</td>\n",
       "      <td>NaN</td>\n",
       "    </tr>\n",
       "  </tbody>\n",
       "</table>\n",
       "</div>"
      ],
      "text/plain": [
       "   action_1  action_2  action_3  action_4  action_5  action_6  action_7  \\\n",
       "1      72.0       NaN       NaN      72.0       NaN       NaN       NaN   \n",
       "2      30.0       NaN       NaN      30.0       NaN       NaN      30.0   \n",
       "3     499.0       NaN     499.0       NaN       NaN       NaN       NaN   \n",
       "4      44.0       NaN      44.0      44.0       NaN       NaN       NaN   \n",
       "5      75.0       NaN      75.0      75.0       NaN       NaN      75.0   \n",
       "\n",
       "   action_8  \n",
       "1       NaN  \n",
       "2       NaN  \n",
       "3       NaN  \n",
       "4       NaN  \n",
       "5       NaN  "
      ]
     },
     "execution_count": 19,
     "metadata": {},
     "output_type": "execute_result"
    }
   ],
   "source": [
    "copy.head()"
   ]
  },
  {
   "cell_type": "markdown",
   "metadata": {},
   "source": [
    "#### Market Basket Analysis "
   ]
  },
  {
   "cell_type": "code",
   "execution_count": 20,
   "metadata": {
    "collapsed": true,
    "scrolled": true
   },
   "outputs": [],
   "source": [
    "#let's make copy of our dataset and delete action_1 as it's simply present in all observations\n",
    "df_copy = df.drop('action_1',axis=1).copy()"
   ]
  },
  {
   "cell_type": "markdown",
   "metadata": {},
   "source": [
    "We will use support level of 0.07 in order to establish reasonable relative frequency.\n"
   ]
  },
  {
   "cell_type": "code",
   "execution_count": 225,
   "metadata": {
    "collapsed": true
   },
   "outputs": [],
   "source": [
    "frequent_itemsets_1 = apriori(df_copy, min_support=0.07, use_colnames=True)"
   ]
  },
  {
   "cell_type": "code",
   "execution_count": 226,
   "metadata": {
    "collapsed": true
   },
   "outputs": [],
   "source": [
    "rules_1 = association_rules(frequent_itemsets_1, metric=\"lift\", min_threshold=1)"
   ]
  },
  {
   "cell_type": "markdown",
   "metadata": {},
   "source": [
    "I will establish confidence level of 0.8 in order to guarantee reliability of the rule. Despite somewhat arbitrary (this requires domain knowledge) I will also stick to above '3' level for the lift in order to find co-occurences with the most significant positive relationship between them."
   ]
  },
  {
   "cell_type": "code",
   "execution_count": 227,
   "metadata": {
    "collapsed": true
   },
   "outputs": [],
   "source": [
    "rules_updated = rules_1[(rules_1['lift'] >= 3) &\n",
    "       (rules_1['confidence'] >= 0.8)].sort_values('confidence',ascending=False)\n",
    "rules_updated = rules_updated[['antecedents','consequents','confidence','lift','support']]\n",
    "rules_updated[\"antecedent_len\"] = rules_updated[\"antecedents\"].apply(lambda x: len(x))"
   ]
  },
  {
   "cell_type": "code",
   "execution_count": 228,
   "metadata": {
    "scrolled": true
   },
   "outputs": [
    {
     "data": {
      "text/html": [
       "<div>\n",
       "<style scoped>\n",
       "    .dataframe tbody tr th:only-of-type {\n",
       "        vertical-align: middle;\n",
       "    }\n",
       "\n",
       "    .dataframe tbody tr th {\n",
       "        vertical-align: top;\n",
       "    }\n",
       "\n",
       "    .dataframe thead th {\n",
       "        text-align: right;\n",
       "    }\n",
       "</style>\n",
       "<table border=\"1\" class=\"dataframe\">\n",
       "  <thead>\n",
       "    <tr style=\"text-align: right;\">\n",
       "      <th></th>\n",
       "      <th>antecedents</th>\n",
       "      <th>consequents</th>\n",
       "      <th>confidence</th>\n",
       "      <th>lift</th>\n",
       "      <th>support</th>\n",
       "      <th>antecedent_len</th>\n",
       "    </tr>\n",
       "  </thead>\n",
       "  <tbody>\n",
       "    <tr>\n",
       "      <th>37</th>\n",
       "      <td>(action_3, action_2, action_7)</td>\n",
       "      <td>(action_4)</td>\n",
       "      <td>1.000000</td>\n",
       "      <td>3.164230</td>\n",
       "      <td>0.184352</td>\n",
       "      <td>3</td>\n",
       "    </tr>\n",
       "    <tr>\n",
       "      <th>25</th>\n",
       "      <td>(action_2, action_7)</td>\n",
       "      <td>(action_4)</td>\n",
       "      <td>1.000000</td>\n",
       "      <td>3.164230</td>\n",
       "      <td>0.206849</td>\n",
       "      <td>2</td>\n",
       "    </tr>\n",
       "    <tr>\n",
       "      <th>31</th>\n",
       "      <td>(action_3, action_7)</td>\n",
       "      <td>(action_4)</td>\n",
       "      <td>1.000000</td>\n",
       "      <td>3.164230</td>\n",
       "      <td>0.185419</td>\n",
       "      <td>2</td>\n",
       "    </tr>\n",
       "    <tr>\n",
       "      <th>11</th>\n",
       "      <td>(action_7)</td>\n",
       "      <td>(action_4)</td>\n",
       "      <td>1.000000</td>\n",
       "      <td>3.164230</td>\n",
       "      <td>0.208246</td>\n",
       "      <td>1</td>\n",
       "    </tr>\n",
       "    <tr>\n",
       "      <th>42</th>\n",
       "      <td>(action_3, action_7)</td>\n",
       "      <td>(action_2, action_4)</td>\n",
       "      <td>0.994245</td>\n",
       "      <td>3.173304</td>\n",
       "      <td>0.184352</td>\n",
       "      <td>2</td>\n",
       "    </tr>\n",
       "    <tr>\n",
       "      <th>29</th>\n",
       "      <td>(action_7)</td>\n",
       "      <td>(action_2, action_4)</td>\n",
       "      <td>0.993291</td>\n",
       "      <td>3.170259</td>\n",
       "      <td>0.206849</td>\n",
       "      <td>1</td>\n",
       "    </tr>\n",
       "    <tr>\n",
       "      <th>20</th>\n",
       "      <td>(action_2, action_7)</td>\n",
       "      <td>(action_3)</td>\n",
       "      <td>0.891241</td>\n",
       "      <td>3.134913</td>\n",
       "      <td>0.184352</td>\n",
       "      <td>2</td>\n",
       "    </tr>\n",
       "    <tr>\n",
       "      <th>44</th>\n",
       "      <td>(action_2, action_7)</td>\n",
       "      <td>(action_3, action_4)</td>\n",
       "      <td>0.891241</td>\n",
       "      <td>3.855681</td>\n",
       "      <td>0.184352</td>\n",
       "      <td>2</td>\n",
       "    </tr>\n",
       "    <tr>\n",
       "      <th>39</th>\n",
       "      <td>(action_2, action_4, action_7)</td>\n",
       "      <td>(action_3)</td>\n",
       "      <td>0.891241</td>\n",
       "      <td>3.134913</td>\n",
       "      <td>0.184352</td>\n",
       "      <td>3</td>\n",
       "    </tr>\n",
       "    <tr>\n",
       "      <th>9</th>\n",
       "      <td>(action_7)</td>\n",
       "      <td>(action_3)</td>\n",
       "      <td>0.890386</td>\n",
       "      <td>3.131906</td>\n",
       "      <td>0.185419</td>\n",
       "      <td>1</td>\n",
       "    </tr>\n",
       "    <tr>\n",
       "      <th>32</th>\n",
       "      <td>(action_4, action_7)</td>\n",
       "      <td>(action_3)</td>\n",
       "      <td>0.890386</td>\n",
       "      <td>3.131906</td>\n",
       "      <td>0.185419</td>\n",
       "      <td>2</td>\n",
       "    </tr>\n",
       "    <tr>\n",
       "      <th>35</th>\n",
       "      <td>(action_7)</td>\n",
       "      <td>(action_3, action_4)</td>\n",
       "      <td>0.890386</td>\n",
       "      <td>3.851981</td>\n",
       "      <td>0.185419</td>\n",
       "      <td>1</td>\n",
       "    </tr>\n",
       "    <tr>\n",
       "      <th>23</th>\n",
       "      <td>(action_7)</td>\n",
       "      <td>(action_3, action_2)</td>\n",
       "      <td>0.885261</td>\n",
       "      <td>3.193715</td>\n",
       "      <td>0.184352</td>\n",
       "      <td>1</td>\n",
       "    </tr>\n",
       "    <tr>\n",
       "      <th>45</th>\n",
       "      <td>(action_4, action_7)</td>\n",
       "      <td>(action_3, action_2)</td>\n",
       "      <td>0.885261</td>\n",
       "      <td>3.193715</td>\n",
       "      <td>0.184352</td>\n",
       "      <td>2</td>\n",
       "    </tr>\n",
       "    <tr>\n",
       "      <th>49</th>\n",
       "      <td>(action_7)</td>\n",
       "      <td>(action_3, action_2, action_4)</td>\n",
       "      <td>0.885261</td>\n",
       "      <td>3.856426</td>\n",
       "      <td>0.184352</td>\n",
       "      <td>1</td>\n",
       "    </tr>\n",
       "    <tr>\n",
       "      <th>36</th>\n",
       "      <td>(action_3, action_2, action_4)</td>\n",
       "      <td>(action_7)</td>\n",
       "      <td>0.803086</td>\n",
       "      <td>3.856426</td>\n",
       "      <td>0.184352</td>\n",
       "      <td>3</td>\n",
       "    </tr>\n",
       "    <tr>\n",
       "      <th>30</th>\n",
       "      <td>(action_3, action_4)</td>\n",
       "      <td>(action_7)</td>\n",
       "      <td>0.802161</td>\n",
       "      <td>3.851981</td>\n",
       "      <td>0.185419</td>\n",
       "      <td>2</td>\n",
       "    </tr>\n",
       "  </tbody>\n",
       "</table>\n",
       "</div>"
      ],
      "text/plain": [
       "                       antecedents                     consequents  \\\n",
       "37  (action_3, action_2, action_7)                      (action_4)   \n",
       "25            (action_2, action_7)                      (action_4)   \n",
       "31            (action_3, action_7)                      (action_4)   \n",
       "11                      (action_7)                      (action_4)   \n",
       "42            (action_3, action_7)            (action_2, action_4)   \n",
       "29                      (action_7)            (action_2, action_4)   \n",
       "20            (action_2, action_7)                      (action_3)   \n",
       "44            (action_2, action_7)            (action_3, action_4)   \n",
       "39  (action_2, action_4, action_7)                      (action_3)   \n",
       "9                       (action_7)                      (action_3)   \n",
       "32            (action_4, action_7)                      (action_3)   \n",
       "35                      (action_7)            (action_3, action_4)   \n",
       "23                      (action_7)            (action_3, action_2)   \n",
       "45            (action_4, action_7)            (action_3, action_2)   \n",
       "49                      (action_7)  (action_3, action_2, action_4)   \n",
       "36  (action_3, action_2, action_4)                      (action_7)   \n",
       "30            (action_3, action_4)                      (action_7)   \n",
       "\n",
       "    confidence      lift   support  antecedent_len  \n",
       "37    1.000000  3.164230  0.184352               3  \n",
       "25    1.000000  3.164230  0.206849               2  \n",
       "31    1.000000  3.164230  0.185419               2  \n",
       "11    1.000000  3.164230  0.208246               1  \n",
       "42    0.994245  3.173304  0.184352               2  \n",
       "29    0.993291  3.170259  0.206849               1  \n",
       "20    0.891241  3.134913  0.184352               2  \n",
       "44    0.891241  3.855681  0.184352               2  \n",
       "39    0.891241  3.134913  0.184352               3  \n",
       "9     0.890386  3.131906  0.185419               1  \n",
       "32    0.890386  3.131906  0.185419               2  \n",
       "35    0.890386  3.851981  0.185419               1  \n",
       "23    0.885261  3.193715  0.184352               1  \n",
       "45    0.885261  3.193715  0.184352               2  \n",
       "49    0.885261  3.856426  0.184352               1  \n",
       "36    0.803086  3.856426  0.184352               3  \n",
       "30    0.802161  3.851981  0.185419               2  "
      ]
     },
     "execution_count": 228,
     "metadata": {},
     "output_type": "execute_result"
    }
   ],
   "source": [
    "#let's see what combinations are left after filtering.\n",
    "rules_updated"
   ]
  },
  {
   "cell_type": "markdown",
   "metadata": {},
   "source": [
    "Obviously, we need to leave only unique co-occurences."
   ]
  },
  {
   "cell_type": "code",
   "execution_count": 229,
   "metadata": {
    "collapsed": true
   },
   "outputs": [],
   "source": [
    "#let's merge antecedents with respective consequents and add result to list\n",
    "list_of_sets = []\n",
    "for index,row in rules_updated.iterrows():\n",
    "    list_of_sets.append(reduce(frozenset.union, [row['antecedents'],row['consequents']])) \n",
    "    "
   ]
  },
  {
   "cell_type": "code",
   "execution_count": 230,
   "metadata": {},
   "outputs": [
    {
     "data": {
      "text/plain": [
       "[frozenset({'action_2', 'action_3', 'action_4', 'action_7'}),\n",
       " frozenset({'action_2', 'action_4', 'action_7'}),\n",
       " frozenset({'action_3', 'action_4', 'action_7'}),\n",
       " frozenset({'action_4', 'action_7'}),\n",
       " frozenset({'action_2', 'action_3', 'action_4', 'action_7'}),\n",
       " frozenset({'action_2', 'action_4', 'action_7'}),\n",
       " frozenset({'action_2', 'action_3', 'action_7'}),\n",
       " frozenset({'action_2', 'action_3', 'action_4', 'action_7'}),\n",
       " frozenset({'action_2', 'action_3', 'action_4', 'action_7'}),\n",
       " frozenset({'action_3', 'action_7'}),\n",
       " frozenset({'action_3', 'action_4', 'action_7'}),\n",
       " frozenset({'action_3', 'action_4', 'action_7'}),\n",
       " frozenset({'action_2', 'action_3', 'action_7'}),\n",
       " frozenset({'action_2', 'action_3', 'action_4', 'action_7'}),\n",
       " frozenset({'action_2', 'action_3', 'action_4', 'action_7'}),\n",
       " frozenset({'action_2', 'action_3', 'action_4', 'action_7'}),\n",
       " frozenset({'action_3', 'action_4', 'action_7'})]"
      ]
     },
     "execution_count": 230,
     "metadata": {},
     "output_type": "execute_result"
    }
   ],
   "source": [
    "#let's check it\n",
    "list_of_sets"
   ]
  },
  {
   "cell_type": "code",
   "execution_count": 231,
   "metadata": {},
   "outputs": [
    {
     "data": {
      "text/plain": [
       "{frozenset({'action_3', 'action_7'}),\n",
       " frozenset({'action_4', 'action_7'}),\n",
       " frozenset({'action_2', 'action_4', 'action_7'}),\n",
       " frozenset({'action_3', 'action_4', 'action_7'}),\n",
       " frozenset({'action_2', 'action_3', 'action_7'}),\n",
       " frozenset({'action_2', 'action_3', 'action_4', 'action_7'})}"
      ]
     },
     "execution_count": 231,
     "metadata": {},
     "output_type": "execute_result"
    }
   ],
   "source": [
    "#create a set of unique valueable co-occurences\n",
    "set_valuable = set(list_of_sets)\n",
    "set_valuable"
   ]
  },
  {
   "cell_type": "markdown",
   "metadata": {},
   "source": [
    "I will not restrict choice to only these 6 groups (clusters), but include those that are present together with co-occurences, according to our standards, have reasonable relative frequency, positive relationship and reliability."
   ]
  },
  {
   "cell_type": "code",
   "execution_count": 238,
   "metadata": {},
   "outputs": [
    {
     "data": {
      "text/html": [
       "<div>\n",
       "<style scoped>\n",
       "    .dataframe tbody tr th:only-of-type {\n",
       "        vertical-align: middle;\n",
       "    }\n",
       "\n",
       "    .dataframe tbody tr th {\n",
       "        vertical-align: top;\n",
       "    }\n",
       "\n",
       "    .dataframe thead th {\n",
       "        text-align: right;\n",
       "    }\n",
       "</style>\n",
       "<table border=\"1\" class=\"dataframe\">\n",
       "  <thead>\n",
       "    <tr style=\"text-align: right;\">\n",
       "      <th></th>\n",
       "      <th>action_1</th>\n",
       "      <th>action_2</th>\n",
       "      <th>action_3</th>\n",
       "      <th>action_4</th>\n",
       "      <th>action_5</th>\n",
       "      <th>action_6</th>\n",
       "      <th>action_7</th>\n",
       "      <th>action_8</th>\n",
       "    </tr>\n",
       "  </thead>\n",
       "  <tbody>\n",
       "    <tr>\n",
       "      <th>1</th>\n",
       "      <td>30.0</td>\n",
       "      <td>NaN</td>\n",
       "      <td>NaN</td>\n",
       "      <td>30.0</td>\n",
       "      <td>NaN</td>\n",
       "      <td>NaN</td>\n",
       "      <td>30.0</td>\n",
       "      <td>NaN</td>\n",
       "    </tr>\n",
       "    <tr>\n",
       "      <th>2</th>\n",
       "      <td>75.0</td>\n",
       "      <td>NaN</td>\n",
       "      <td>75.0</td>\n",
       "      <td>75.0</td>\n",
       "      <td>NaN</td>\n",
       "      <td>NaN</td>\n",
       "      <td>75.0</td>\n",
       "      <td>NaN</td>\n",
       "    </tr>\n",
       "    <tr>\n",
       "      <th>3</th>\n",
       "      <td>21.0</td>\n",
       "      <td>NaN</td>\n",
       "      <td>21.0</td>\n",
       "      <td>21.0</td>\n",
       "      <td>21.0</td>\n",
       "      <td>NaN</td>\n",
       "      <td>21.0</td>\n",
       "      <td>NaN</td>\n",
       "    </tr>\n",
       "    <tr>\n",
       "      <th>4</th>\n",
       "      <td>1837.0</td>\n",
       "      <td>1837.0</td>\n",
       "      <td>NaN</td>\n",
       "      <td>1837.0</td>\n",
       "      <td>NaN</td>\n",
       "      <td>NaN</td>\n",
       "      <td>1837.0</td>\n",
       "      <td>NaN</td>\n",
       "    </tr>\n",
       "    <tr>\n",
       "      <th>5</th>\n",
       "      <td>204.0</td>\n",
       "      <td>204.0</td>\n",
       "      <td>NaN</td>\n",
       "      <td>204.0</td>\n",
       "      <td>204.0</td>\n",
       "      <td>NaN</td>\n",
       "      <td>204.0</td>\n",
       "      <td>NaN</td>\n",
       "    </tr>\n",
       "    <tr>\n",
       "      <th>6</th>\n",
       "      <td>12625.0</td>\n",
       "      <td>12625.0</td>\n",
       "      <td>12625.0</td>\n",
       "      <td>12625.0</td>\n",
       "      <td>NaN</td>\n",
       "      <td>NaN</td>\n",
       "      <td>12625.0</td>\n",
       "      <td>NaN</td>\n",
       "    </tr>\n",
       "    <tr>\n",
       "      <th>7</th>\n",
       "      <td>4076.0</td>\n",
       "      <td>4076.0</td>\n",
       "      <td>4076.0</td>\n",
       "      <td>4076.0</td>\n",
       "      <td>4076.0</td>\n",
       "      <td>NaN</td>\n",
       "      <td>4076.0</td>\n",
       "      <td>NaN</td>\n",
       "    </tr>\n",
       "    <tr>\n",
       "      <th>8</th>\n",
       "      <td>29.0</td>\n",
       "      <td>29.0</td>\n",
       "      <td>29.0</td>\n",
       "      <td>29.0</td>\n",
       "      <td>29.0</td>\n",
       "      <td>29.0</td>\n",
       "      <td>29.0</td>\n",
       "      <td>NaN</td>\n",
       "    </tr>\n",
       "    <tr>\n",
       "      <th>9</th>\n",
       "      <td>25.0</td>\n",
       "      <td>25.0</td>\n",
       "      <td>25.0</td>\n",
       "      <td>25.0</td>\n",
       "      <td>25.0</td>\n",
       "      <td>25.0</td>\n",
       "      <td>25.0</td>\n",
       "      <td>25.0</td>\n",
       "    </tr>\n",
       "  </tbody>\n",
       "</table>\n",
       "</div>"
      ],
      "text/plain": [
       "   action_1  action_2  action_3  action_4  action_5  action_6  action_7  \\\n",
       "1      30.0       NaN       NaN      30.0       NaN       NaN      30.0   \n",
       "2      75.0       NaN      75.0      75.0       NaN       NaN      75.0   \n",
       "3      21.0       NaN      21.0      21.0      21.0       NaN      21.0   \n",
       "4    1837.0    1837.0       NaN    1837.0       NaN       NaN    1837.0   \n",
       "5     204.0     204.0       NaN     204.0     204.0       NaN     204.0   \n",
       "6   12625.0   12625.0   12625.0   12625.0       NaN       NaN   12625.0   \n",
       "7    4076.0    4076.0    4076.0    4076.0    4076.0       NaN    4076.0   \n",
       "8      29.0      29.0      29.0      29.0      29.0      29.0      29.0   \n",
       "9      25.0      25.0      25.0      25.0      25.0      25.0      25.0   \n",
       "\n",
       "   action_8  \n",
       "1       NaN  \n",
       "2       NaN  \n",
       "3       NaN  \n",
       "4       NaN  \n",
       "5       NaN  \n",
       "6       NaN  \n",
       "7       NaN  \n",
       "8       NaN  \n",
       "9      25.0  "
      ]
     },
     "execution_count": 238,
     "metadata": {},
     "output_type": "execute_result"
    }
   ],
   "source": [
    "new_copy = copy[((copy['action_2'].notnull()) & (copy['action_4'].notnull()) &  (copy['action_7'].notnull())) |  ((copy['action_2'].notnull()) & (copy['action_3'].notnull()) &  (copy['action_7'].notnull())) |  ((copy['action_3'].notnull()) & (copy['action_4'].notnull()) &  (copy['action_7'].notnull())) |  ((copy['action_2'].notnull()) & (copy['action_3'].notnull()) & (copy['action_4'].notnull()) &  (copy['action_7'].notnull())) |  ((copy['action_4'].notnull()) &  (copy['action_7'].notnull())) |  ((copy['action_3'].notnull()) &  (copy['action_7'].notnull()))]\n",
    "new_copy = new_copy.reset_index(drop=True)\n",
    "new_copy.index += 1\n",
    "new_copy"
   ]
  },
  {
   "cell_type": "markdown",
   "metadata": {},
   "source": [
    "We will sort out those top_5 groups that co-occur the most frequently and which are reliable in descending order."
   ]
  },
  {
   "cell_type": "code",
   "execution_count": 242,
   "metadata": {},
   "outputs": [
    {
     "data": {
      "text/html": [
       "<div>\n",
       "<style scoped>\n",
       "    .dataframe tbody tr th:only-of-type {\n",
       "        vertical-align: middle;\n",
       "    }\n",
       "\n",
       "    .dataframe tbody tr th {\n",
       "        vertical-align: top;\n",
       "    }\n",
       "\n",
       "    .dataframe thead th {\n",
       "        text-align: right;\n",
       "    }\n",
       "</style>\n",
       "<table border=\"1\" class=\"dataframe\">\n",
       "  <thead>\n",
       "    <tr style=\"text-align: right;\">\n",
       "      <th></th>\n",
       "      <th>action_1</th>\n",
       "      <th>action_2</th>\n",
       "      <th>action_3</th>\n",
       "      <th>action_4</th>\n",
       "      <th>action_5</th>\n",
       "      <th>action_6</th>\n",
       "      <th>action_7</th>\n",
       "      <th>action_8</th>\n",
       "    </tr>\n",
       "  </thead>\n",
       "  <tbody>\n",
       "    <tr>\n",
       "      <th>1</th>\n",
       "      <td>12625.0</td>\n",
       "      <td>12625.0</td>\n",
       "      <td>12625.0</td>\n",
       "      <td>12625.0</td>\n",
       "      <td>NaN</td>\n",
       "      <td>NaN</td>\n",
       "      <td>12625.0</td>\n",
       "      <td>NaN</td>\n",
       "    </tr>\n",
       "    <tr>\n",
       "      <th>2</th>\n",
       "      <td>4076.0</td>\n",
       "      <td>4076.0</td>\n",
       "      <td>4076.0</td>\n",
       "      <td>4076.0</td>\n",
       "      <td>4076.0</td>\n",
       "      <td>NaN</td>\n",
       "      <td>4076.0</td>\n",
       "      <td>NaN</td>\n",
       "    </tr>\n",
       "    <tr>\n",
       "      <th>3</th>\n",
       "      <td>1837.0</td>\n",
       "      <td>1837.0</td>\n",
       "      <td>NaN</td>\n",
       "      <td>1837.0</td>\n",
       "      <td>NaN</td>\n",
       "      <td>NaN</td>\n",
       "      <td>1837.0</td>\n",
       "      <td>NaN</td>\n",
       "    </tr>\n",
       "    <tr>\n",
       "      <th>4</th>\n",
       "      <td>204.0</td>\n",
       "      <td>204.0</td>\n",
       "      <td>NaN</td>\n",
       "      <td>204.0</td>\n",
       "      <td>204.0</td>\n",
       "      <td>NaN</td>\n",
       "      <td>204.0</td>\n",
       "      <td>NaN</td>\n",
       "    </tr>\n",
       "    <tr>\n",
       "      <th>5</th>\n",
       "      <td>75.0</td>\n",
       "      <td>NaN</td>\n",
       "      <td>75.0</td>\n",
       "      <td>75.0</td>\n",
       "      <td>NaN</td>\n",
       "      <td>NaN</td>\n",
       "      <td>75.0</td>\n",
       "      <td>NaN</td>\n",
       "    </tr>\n",
       "  </tbody>\n",
       "</table>\n",
       "</div>"
      ],
      "text/plain": [
       "   action_1  action_2  action_3  action_4  action_5  action_6  action_7  \\\n",
       "1   12625.0   12625.0   12625.0   12625.0       NaN       NaN   12625.0   \n",
       "2    4076.0    4076.0    4076.0    4076.0    4076.0       NaN    4076.0   \n",
       "3    1837.0    1837.0       NaN    1837.0       NaN       NaN    1837.0   \n",
       "4     204.0     204.0       NaN     204.0     204.0       NaN     204.0   \n",
       "5      75.0       NaN      75.0      75.0       NaN       NaN      75.0   \n",
       "\n",
       "   action_8  \n",
       "1       NaN  \n",
       "2       NaN  \n",
       "3       NaN  \n",
       "4       NaN  \n",
       "5       NaN  "
      ]
     },
     "execution_count": 242,
     "metadata": {},
     "output_type": "execute_result"
    }
   ],
   "source": [
    "new_copy = new_copy.sort_values('action_1',ascending=False).reset_index(drop=True).head(5)\n",
    "new_copy.index += 1\n",
    "new_copy"
   ]
  },
  {
   "cell_type": "markdown",
   "metadata": {},
   "source": [
    "#### CSV-file formation"
   ]
  },
  {
   "cell_type": "code",
   "execution_count": 249,
   "metadata": {
    "collapsed": true
   },
   "outputs": [],
   "source": [
    "#make csv\n",
    "new_copy.to_csv('filtered_groups.csv')"
   ]
  },
  {
   "cell_type": "markdown",
   "metadata": {},
   "source": [
    "### Conclusion\n",
    "\n",
    "So, we are left with 5 clusters after grouping action co-occurences and filtering out those with non-reliable characteristics."
   ]
  },
  {
   "cell_type": "markdown",
   "metadata": {},
   "source": [
    "#### Some warning notes\n",
    "One should be careful with Market Base Analysis in cases like ours, where it is demonstrated that data is not evenly distributed across different baskets."
   ]
  }
 ],
 "metadata": {
  "kernelspec": {
   "display_name": "Python 3",
   "language": "python",
   "name": "python3"
  },
  "language_info": {
   "codemirror_mode": {
    "name": "ipython",
    "version": 3
   },
   "file_extension": ".py",
   "mimetype": "text/x-python",
   "name": "python",
   "nbconvert_exporter": "python",
   "pygments_lexer": "ipython3",
   "version": "3.6.1"
  },
  "toc": {
   "colors": {
    "hover_highlight": "#DAA520",
    "navigate_num": "#000000",
    "navigate_text": "#333333",
    "running_highlight": "#FF0000",
    "selected_highlight": "#FFD700",
    "sidebar_border": "#EEEEEE",
    "wrapper_background": "#FFFFFF"
   },
   "moveMenuLeft": true,
   "nav_menu": {
    "height": "66px",
    "width": "252px"
   },
   "navigate_menu": true,
   "number_sections": true,
   "sideBar": true,
   "threshold": 4,
   "toc_cell": false,
   "toc_section_display": "block",
   "toc_window_display": false,
   "widenNotebook": false
  }
 },
 "nbformat": 4,
 "nbformat_minor": 2
}
